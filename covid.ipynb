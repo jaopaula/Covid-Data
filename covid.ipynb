{
 "cells": [
  {
   "cell_type": "code",
   "execution_count": 1,
   "metadata": {},
   "outputs": [],
   "source": [
    "import pandas as pd"
   ]
  },
  {
   "cell_type": "code",
   "execution_count": 2,
   "metadata": {},
   "outputs": [],
   "source": [
    "file_path = 'Dados.xlsx'  \n",
    "data = pd.ExcelFile(file_path)"
   ]
  },
  {
   "cell_type": "code",
   "execution_count": 3,
   "metadata": {},
   "outputs": [],
   "source": [
    "df = data.parse('Sheet 1', header=1)"
   ]
  },
  {
   "cell_type": "code",
   "execution_count": 4,
   "metadata": {},
   "outputs": [],
   "source": [
    "municipios_col = 'Município1'\n",
    "data_cols = df.columns[4:] \n",
    "\n",
    "isolamento_df = df[[municipios_col] + list(data_cols)]"
   ]
  },
  {
   "cell_type": "code",
   "execution_count": 5,
   "metadata": {},
   "outputs": [],
   "source": [
    "isolamento_df = isolamento_df.dropna(subset=[municipios_col])"
   ]
  },
  {
   "cell_type": "code",
   "execution_count": 6,
   "metadata": {},
   "outputs": [],
   "source": [
    "isolamento_df[data_cols] = isolamento_df[data_cols].apply(pd.to_numeric, errors='coerce')"
   ]
  },
  {
   "cell_type": "code",
   "execution_count": 7,
   "metadata": {},
   "outputs": [
    {
     "name": "stderr",
     "output_type": "stream",
     "text": [
      "C:\\Users\\evosystem04.ti\\AppData\\Local\\Temp\\ipykernel_18648\\1366921238.py:1: PerformanceWarning: DataFrame is highly fragmented.  This is usually the result of calling `frame.insert` many times, which has poor performance.  Consider joining all columns at once using pd.concat(axis=1) instead. To get a de-fragmented frame, use `newframe = frame.copy()`\n",
      "  isolamento_df['Dias >= 50%'] = (isolamento_df[data_cols] >= 0.5).sum(axis=1)\n"
     ]
    }
   ],
   "source": [
    "isolamento_df['Dias >= 50%'] = (isolamento_df[data_cols] >= 0.5).sum(axis=1)\n",
    "#talvez fique lento por causa do acesso a memoria devido ao pandas, arrumar se der ruim com \".pdconcat\" talvez  "
   ]
  },
  {
   "cell_type": "code",
   "execution_count": 8,
   "metadata": {},
   "outputs": [
    {
     "name": "stdout",
     "output_type": "stream",
     "text": [
      "                Município1  Dias >= 50%\n",
      "78                  MOCOCA          633\n",
      "116   SÃO JOAQUIM DA BARRA          622\n",
      "122          SÃO SEBASTIÃO          583\n",
      "117  SÃO JOSÉ DO RIO PARDO          581\n",
      "98          PORTO FERREIRA          570\n",
      "129           TAQUARITINGA          524\n",
      "13                BATATAIS          496\n",
      "84               MONTE MOR          468\n",
      "58                 ITARARÉ          422\n",
      "15               BEBEDOURO          396\n"
     ]
    }
   ],
   "source": [
    "top_10_municipios = isolamento_df[[municipios_col, 'Dias >= 50%']].sort_values(by='Dias >= 50%', ascending=False).head(10)\n",
    "\n",
    "print(top_10_municipios)"
   ]
  }
 ],
 "metadata": {
  "kernelspec": {
   "display_name": "Python 3",
   "language": "python",
   "name": "python3"
  },
  "language_info": {
   "codemirror_mode": {
    "name": "ipython",
    "version": 3
   },
   "file_extension": ".py",
   "mimetype": "text/x-python",
   "name": "python",
   "nbconvert_exporter": "python",
   "pygments_lexer": "ipython3",
   "version": "3.13.0"
  }
 },
 "nbformat": 4,
 "nbformat_minor": 2
}
